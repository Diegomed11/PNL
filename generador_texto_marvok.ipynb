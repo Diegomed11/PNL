{
 "cells": [
  {
   "cell_type": "code",
   "execution_count": 122,
   "id": "683479c0-d065-48d5-83aa-0bf25215e545",
   "metadata": {},
   "outputs": [],
   "source": [
    "import numpy as np\n",
    "import string"
   ]
  },
  {
   "cell_type": "code",
   "execution_count": 123,
   "id": "63dac823-6afc-44ea-ad2a-ab36eb7e92de",
   "metadata": {},
   "outputs": [],
   "source": [
    "#crea diccionario con las palabras iniciales y su frecunecia\n",
    "pa_inicial={}\n",
    "#hace un diccionario con las palabras de nuestro doc y las asocia con la palarba que sigue de ella\n",
    "primer_orden={}\n",
    "#crea un diccionario con las dos palabras y las asocia a la palabra que sigue\n",
    "segundo_orden={}\n"
   ]
  },
  {
   "cell_type": "code",
   "execution_count": 124,
   "id": "3fa32740-723d-4d9f-b106-7511c7e46bcc",
   "metadata": {},
   "outputs": [],
   "source": [
    "#remover puntuacion\n",
    "def remove_punctuation(s):\n",
    "    return s.translate(str.maketrans('','',string.punctuation))"
   ]
  },
  {
   "cell_type": "code",
   "execution_count": 125,
   "id": "cd23e393-bcdd-40fd-a63f-3c8c8bc6f731",
   "metadata": {},
   "outputs": [],
   "source": [
    "def add2dict(d,k,v):\n",
    "    if k not in d:\n",
    "        d[k]=[]\n",
    "    d[k].append(v)"
   ]
  },
  {
   "cell_type": "code",
   "execution_count": 126,
   "id": "be250d92-bd90-446f-b6d1-e4fad24d4a59",
   "metadata": {},
   "outputs": [],
   "source": [
    "with open(\"Pablo Neruda.txt\", 'r', encoding='utf-8') as archivo:\n",
    "    for line in archivo:\n",
    "        tokens= remove_punctuation(line.rstrip().lower()).split()\n",
    "        T = len(tokens)\n",
    "        for i in range(T):\n",
    "            token=tokens[i]\n",
    "            if i == 0:\n",
    "                pa_inicial[token]=pa_inicial.get(token,0.)+1\n",
    "            else:\n",
    "                t_1 = tokens[i-1]\n",
    "                if i == T - 1:\n",
    "                    add2dict(segundo_orden,(t_1,token),'END')\n",
    "                if i == 1:\n",
    "                    add2dict(primer_orden,t_1,token)\n",
    "                else:\n",
    "                    t_2=tokens[i-2]\n",
    "                    add2dict(segundo_orden,(t_2,t_1), token)"
   ]
  },
  {
   "cell_type": "code",
   "execution_count": 127,
   "id": "183377b3",
   "metadata": {},
   "outputs": [],
   "source": [
    "#normalizar\n",
    "inicial_total= sum(pa_inicial.values())\n",
    "\n",
    "for t , c in pa_inicial.items():\n",
    "    pa_inicial[t]=c/inicial_total"
   ]
  },
  {
   "cell_type": "code",
   "execution_count": 128,
   "id": "9e35ca14",
   "metadata": {},
   "outputs": [],
   "source": [
    "def list2pdict(ts):\n",
    "    d = {}\n",
    "    n = len (ts)\n",
    "\n",
    "    for t in ts:\n",
    "        d[t]=d.get(t,0.)+1\n",
    "\n",
    "    for t , c in d.items():\n",
    "        d[t]= c/n\n",
    "    return d    "
   ]
  },
  {
   "cell_type": "code",
   "execution_count": 129,
   "id": "ae6c0d80",
   "metadata": {},
   "outputs": [],
   "source": [
    "for t_1,  ts in primer_orden.items():\n",
    "    primer_orden[t_1]= list2pdict(ts)"
   ]
  },
  {
   "cell_type": "code",
   "execution_count": 130,
   "id": "b654f3ec",
   "metadata": {},
   "outputs": [],
   "source": [
    "for k, ts in segundo_orden.items():\n",
    "    segundo_orden[k]=list2pdict(ts)"
   ]
  },
  {
   "cell_type": "code",
   "execution_count": 131,
   "id": "7bb778a5",
   "metadata": {},
   "outputs": [],
   "source": [
    "def palabra_ejemplo(d, imprimir):\n",
    "    if not d:  # Manejar diccionarios vacíos\n",
    "        return None\n",
    "        \n",
    "    p0 = np.random.random()\n",
    "    cumulative = 0\n",
    "    for t, p in d.items():\n",
    "        cumulative += p\n",
    "        if p0 < cumulative:\n",
    "            return t\n",
    "    return list(d.keys())[-1]  # Fallback: última palabra"
   ]
  },
  {
   "cell_type": "code",
   "execution_count": 132,
   "id": "88fb0813",
   "metadata": {},
   "outputs": [],
   "source": [
    "def generador(tamaño, max_palabras=50):  # Añadir límite de palabras\n",
    "    for _ in range(tamaño):\n",
    "        oracion = []\n",
    "        # Manejo más eficiente de palabras iniciales\n",
    "        pal0 = palabra_ejemplo(pa_inicial, 0) or \"el\"  # Valor por defecto\n",
    "        \n",
    "        # Primer orden con fallback\n",
    "        pal1 = palabra_ejemplo(primer_orden.get(pal0, {}), 0) or \"mar\"\n",
    "        \n",
    "        oracion.extend([pal0, pal1])\n",
    "        \n",
    "        # Segundo orden con control de longitud\n",
    "        for _ in range(max_palabras):\n",
    "            clave = (pal0, pal1)\n",
    "            opciones = segundo_orden.get(clave, {})\n",
    "            pal2 = palabra_ejemplo(opciones, 0)\n",
    "            \n",
    "            if not pal2 or pal2 == 'END':\n",
    "                break\n",
    "                \n",
    "            oracion.append(pal2)\n",
    "            pal0, pal1 = pal1, pal2  # Actualizar contexto\n",
    "            \n",
    "        print(' '.join(oracion))"
   ]
  },
  {
   "cell_type": "code",
   "execution_count": 133,
   "id": "a43a5a39",
   "metadata": {},
   "outputs": [
    {
     "name": "stdout",
     "output_type": "stream",
     "text": [
      "cien sonetos de amor distante\n",
      "ahora se trata de que mi corazón furias y olas desvencijadas\n",
      "por cada grada\n",
      "no es nada sino esa copa hermano y escucha cómo nace la flor por el día que arde con sacrificio\n",
      "pura sabiduría\n"
     ]
    }
   ],
   "source": [
    "generador(5)"
   ]
  },
  {
   "cell_type": "code",
   "execution_count": null,
   "id": "8f827705",
   "metadata": {},
   "outputs": [],
   "source": []
  },
  {
   "cell_type": "code",
   "execution_count": null,
   "id": "8c575190",
   "metadata": {},
   "outputs": [],
   "source": []
  }
 ],
 "metadata": {
  "kernelspec": {
   "display_name": "spacy-env",
   "language": "python",
   "name": "python3"
  },
  "language_info": {
   "codemirror_mode": {
    "name": "ipython",
    "version": 3
   },
   "file_extension": ".py",
   "mimetype": "text/x-python",
   "name": "python",
   "nbconvert_exporter": "python",
   "pygments_lexer": "ipython3",
   "version": "3.11.0"
  }
 },
 "nbformat": 4,
 "nbformat_minor": 5
}
