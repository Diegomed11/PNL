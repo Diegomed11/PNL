{
 "cells": [
  {
   "cell_type": "code",
   "execution_count": 2,
   "id": "974a47eb-0ff5-45b6-b6ce-a5d18717f6ff",
   "metadata": {},
   "outputs": [],
   "source": [
    "import numpy as np\n",
    "import matplotlib.pyplot as plt\n",
    "import string\n",
    "from sklearn.model_selection import train_test_split"
   ]
  },
  {
   "cell_type": "code",
   "execution_count": 3,
   "id": "f16abaa3-6954-467e-9fba-34fb319265fb",
   "metadata": {},
   "outputs": [],
   "source": [
    "archivos=[\n",
    "    'poemas_edgar_allan_poe.txt',\n",
    "    'Pablo Neruda.txt'\n",
    "]"
   ]
  },
  {
   "cell_type": "code",
   "execution_count": 4,
   "id": "ff24396a-6e33-4958-b236-ce064da318e3",
   "metadata": {},
   "outputs": [],
   "source": [
    "textos=[]\n",
    "etiquetas=[]"
   ]
  },
  {
   "cell_type": "code",
   "execution_count": 5,
   "id": "d7b7a467-5646-411b-be4b-903b9fc13098",
   "metadata": {},
   "outputs": [
    {
     "name": "stdout",
     "output_type": "stream",
     "text": [
      "poemas_edgar_allan_poe.txt corresponde a: 0\n",
      "Pablo Neruda.txt corresponde a: 1\n"
     ]
    }
   ],
   "source": [
    "for etiqueta, f in enumerate(archivos):\n",
    "    print(f\"{f} corresponde a: {etiqueta}\")\n",
    "\n",
    "    with open(f, 'r',encoding='utf-8') as archivo:\n",
    "        for line in archivo:\n",
    "            line = line.rstrip().lower()\n",
    "            if line:\n",
    "                line = line.translate(str.maketrans('','',string.punctuation))\n",
    "                textos.append(line)\n",
    "                etiquetas.append(etiqueta)\n",
    "                "
   ]
  },
  {
   "cell_type": "code",
   "execution_count": 22,
   "id": "64e0b5c5-b47a-48c4-aea1-bfddc700dc57",
   "metadata": {},
   "outputs": [],
   "source": [
    "#textos"
   ]
  },
  {
   "cell_type": "code",
   "execution_count": 23,
   "id": "dd50b3d8-10ba-4e26-a5ff-7dc91bfb3b09",
   "metadata": {},
   "outputs": [],
   "source": [
    "#etiquetas\n"
   ]
  },
  {
   "cell_type": "code",
   "execution_count": 24,
   "id": "1ad5ab16-5852-436d-96a2-f885176d3506",
   "metadata": {},
   "outputs": [],
   "source": [
    "train_text,test_text,ytrain,ytest= train_test_split(textos,etiquetas,test_size=0.1,random_state=1)"
   ]
  },
  {
   "cell_type": "code",
   "execution_count": 25,
   "id": "1afd7150-f2de-4cbe-a04b-45c99d800d22",
   "metadata": {},
   "outputs": [
    {
     "data": {
      "text/plain": [
       "(14481, 1610)"
      ]
     },
     "execution_count": 25,
     "metadata": {},
     "output_type": "execute_result"
    }
   ],
   "source": [
    "len(ytrain), len(ytest)"
   ]
  },
  {
   "cell_type": "code",
   "execution_count": 26,
   "id": "bdba8a32-e643-40de-bf51-52b3c493e58b",
   "metadata": {},
   "outputs": [],
   "source": [
    "indice=1\n",
    "indicepalabras={'<unk>':0}#se usar para asignar 0 a las palabras desconocidas en el entrenamiento"
   ]
  },
  {
   "cell_type": "code",
   "execution_count": 27,
   "id": "2a74f3dd-371f-4ac5-9d31-3ba273f5b1ad",
   "metadata": {},
   "outputs": [],
   "source": [
    "for txt in train_text:\n",
    "    tokens=txt.split()\n",
    "    for token in tokens:\n",
    "        if token not in indicepalabras:\n",
    "            indicepalabras[token]=indice\n",
    "            indice+=1"
   ]
  },
  {
   "cell_type": "code",
   "execution_count": 28,
   "id": "64cbfc48-803f-4406-b88f-29c3cf9bffe8",
   "metadata": {},
   "outputs": [],
   "source": [
    "#indicepalabras"
   ]
  },
  {
   "cell_type": "code",
   "execution_count": 29,
   "id": "3065803b-33f3-4c50-852a-6a24e0a3e5ce",
   "metadata": {},
   "outputs": [],
   "source": [
    "#convertir a enteros\n",
    "train_text_int=[]\n",
    "test_text_int=[]\n",
    "\n",
    "for txt in train_text:\n",
    "    tokens=txt.split()\n",
    "    linea_entero=[indicepalabras[token]for token in tokens]\n",
    "    train_text_int.append(linea_entero)\n",
    "\n",
    "for txt in test_text:\n",
    "    tokens=txt.split()\n",
    "    linea_entero=[indicepalabras.get(token,0)for token in tokens] #si esta la palabra en el diccionario toma su numero y si no esta toma el 0\n",
    "    test_text_int.append(linea_entero)"
   ]
  },
  {
   "cell_type": "code",
   "execution_count": 30,
   "id": "04e9b6a1-fe4f-4e13-b6e4-d29c286c7f8b",
   "metadata": {},
   "outputs": [],
   "source": [
    "v= len(indicepalabras)\n",
    "\n",
    "a0= np.ones((v,v))\n",
    "pi0= np.ones(v)\n",
    "\n",
    "a1= np.ones((v,v))\n",
    "pi1= np.ones(v)"
   ]
  },
  {
   "cell_type": "code",
   "execution_count": 31,
   "id": "9f1935f0-09f6-478a-ac42-45cd4438b015",
   "metadata": {},
   "outputs": [],
   "source": [
    "#cuenta el numero de palabras con las que una frase empezo y cuantas veces siguio la otra palabra\n",
    "def c_counts (text_int, a, pi):\n",
    "\n",
    "    for tokens in text_int:\n",
    "        last_idx= None\n",
    "        for idx in tokens:\n",
    "            if last_idx is None:\n",
    "                pi[idx]+=1\n",
    "            else:\n",
    "                a[last_idx, idx]+=1\n",
    "            last_idx = idx\n",
    "\n",
    "c_counts([t for t,y in zip(train_text_int, ytrain)if y==0],a0,pi0)\n",
    "c_counts([t for t,y in zip(train_text_int, ytrain)if y==1],a1,pi1)\n"
   ]
  },
  {
   "cell_type": "code",
   "execution_count": 32,
   "id": "ddd417f4-e0b8-451c-b2b2-1ba61f85cf64",
   "metadata": {},
   "outputs": [],
   "source": [
    "#Normalizar a y pi para que sean matrices de probabilidad\n",
    "\n",
    "a0/= a0.sum(axis=1, keepdims=True)\n",
    "pi0/=pi0.sum()\n",
    "\n",
    "a1/=a1.sum(axis=1,keepdims=True)\n",
    "pi1/=pi1.sum()\n",
    "\n"
   ]
  },
  {
   "cell_type": "code",
   "execution_count": 42,
   "id": "d1453720-faff-4caf-87da-51a653425da4",
   "metadata": {},
   "outputs": [],
   "source": [
    "#pasar a logaritmos para que no sean numeros muy pequeños\n",
    "log_a0=np.log(a0)\n",
    "log_pi0=np.log(pi0)\n",
    "\n",
    "log_a1=np.log(a1)\n",
    "log_pi1=np.log(pi1)"
   ]
  },
  {
   "cell_type": "code",
   "execution_count": 43,
   "id": "d5e73309-e155-4bd4-8178-3786f49fb321",
   "metadata": {},
   "outputs": [
    {
     "data": {
      "text/plain": [
       "(0.002969408190042124, 0.9970305918099579)"
      ]
     },
     "execution_count": 43,
     "metadata": {},
     "output_type": "execute_result"
    }
   ],
   "source": [
    "count0= sum(y==0 for y in ytrain) #cuenta etiquetas de clase 0 en ytrain\n",
    "count1= sum(y==1 for y in ytrain) #cuenta etiquetas de clase 1 en ytrain\n",
    "total = len(ytrain)#cantidad total de ejemplos de entrenamiento\n",
    "p0= count0/total #probabilidad a priori de clase 0\n",
    "p1= count1/total  #probabilidad a priori de clase 1\n",
    "logp0=np.log(p0) #log de la probabilidad a priori clase 0\n",
    "logp1=np.log(p1) #log de la probabilidad a priori clase 1\n",
    "\n",
    "p0,p1#imprime las probabilidad a priori de ambas clases\n"
   ]
  },
  {
   "cell_type": "code",
   "execution_count": 46,
   "id": "8b6c1628-b71c-4376-9a71-8fd8a37bbc27",
   "metadata": {},
   "outputs": [],
   "source": [
    "#construir clasificador\n",
    "class clasificador:\n",
    "    def __init__(self, logas, logpis, logpriors):\n",
    "        self.logas =  logas\n",
    "        self.logpis = logpis\n",
    "        self.logpriors = logpriors\n",
    "        self.K= len(logpriors)#numero de clases\n",
    "    def _compute_log_likelihood(self, input_, class_):\n",
    "        loga= self.logas[class_]\n",
    "        logpi= self.logpis[class_]\n",
    "        last_idx= None\n",
    "        logprob= 0\n",
    "        for idx in input_:\n",
    "            if last_idx is None:\n",
    "                logprob += logpi[idx]\n",
    "            else:\n",
    "                logprob += loga[last_idx, idx]\n",
    "            last_idx= idx\n",
    "        return logprob\n",
    "    def predict(self, inputs):\n",
    "        predictions = np.zeros(len(inputs))\n",
    "        for i, input_ in enumerate(inputs):\n",
    "            #calcula los logaritmos de las probabilidades posteriores para cada clase\n",
    "            posteriors = [self._compute_log_likelihood(input_,c)+self.logpriors[c]\\\n",
    "                          for c in range(self.K)]\n",
    "            #elige la clase con la mayor probabilidad posterior como la prediccion \n",
    "            pred=np.argmax(posteriors)\n",
    "            predictions[i]=pred\n",
    "        return predictions"
   ]
  },
  {
   "cell_type": "code",
   "execution_count": 47,
   "id": "c3953661-e92c-44dd-8ebb-0179e97df360",
   "metadata": {},
   "outputs": [],
   "source": [
    "#cada arreglo debe estar en orden ya que se asumen que las clases indexan estas listas\n",
    "\n",
    "clf = clasificador([log_a0,log_a1],[log_pi0,log_pi1],[logp0,logp1])"
   ]
  },
  {
   "cell_type": "code",
   "execution_count": 50,
   "id": "68f75f6d-04df-4dac-ae80-65942114233f",
   "metadata": {},
   "outputs": [
    {
     "name": "stdout",
     "output_type": "stream",
     "text": [
      "Train acc: 0.9985498239071887\n"
     ]
    }
   ],
   "source": [
    "ptrain= clf.predict(train_text_int)\n",
    "print(f\"Train acc: {np.mean(ptrain == ytrain)}\")"
   ]
  },
  {
   "cell_type": "code",
   "execution_count": 51,
   "id": "405e21ec-4baf-4746-aaae-bc267cff1c42",
   "metadata": {},
   "outputs": [
    {
     "name": "stdout",
     "output_type": "stream",
     "text": [
      "Train acc: 0.9956521739130435\n"
     ]
    }
   ],
   "source": [
    "ptest= clf.predict(test_text_int)\n",
    "print(f\"Train acc: {np.mean(ptest == ytest)}\")"
   ]
  },
  {
   "cell_type": "code",
   "execution_count": null,
   "id": "4fc3bb64-dc00-4010-8d75-e8edd85b4a49",
   "metadata": {},
   "outputs": [],
   "source": []
  },
  {
   "cell_type": "code",
   "execution_count": null,
   "id": "acb0bb65-5775-4505-ab4e-56197ee17d7d",
   "metadata": {},
   "outputs": [],
   "source": []
  }
 ],
 "metadata": {
  "kernelspec": {
   "display_name": "Python [conda env:base] *",
   "language": "python",
   "name": "conda-base-py"
  },
  "language_info": {
   "codemirror_mode": {
    "name": "ipython",
    "version": 3
   },
   "file_extension": ".py",
   "mimetype": "text/x-python",
   "name": "python",
   "nbconvert_exporter": "python",
   "pygments_lexer": "ipython3",
   "version": "3.12.7"
  }
 },
 "nbformat": 4,
 "nbformat_minor": 5
}
